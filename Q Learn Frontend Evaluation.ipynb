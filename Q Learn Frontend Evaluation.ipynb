{
 "cells": [
  {
   "cell_type": "code",
   "execution_count": 7,
   "id": "ba2bf091-b75a-422a-b5ac-73190c2e309a",
   "metadata": {},
   "outputs": [
    {
     "name": "stdout",
     "output_type": "stream",
     "text": [
      "Images are similar\n",
      "Similarity Score (100%): 100.0\n"
     ]
    }
   ],
   "source": [
    "import os\n",
    "from Q_Learn_Frontend_Evaluation import *\n",
    "\n",
    "# Get the current working directory\n",
    "current_dir = os.getcwd()\n",
    "\n",
    "# Path to your HTML file\n",
    "html_file = os.path.join(current_dir, \"index.html\")\n",
    "\n",
    "# Path to your Chrome driver executable\n",
    "chrome_driver_path = os.path.join(current_dir, \"chromedriver.exe\")  # Change this path based on your system\n",
    "\n",
    "# Take website screenshot\n",
    "take_website_screenshot(html_file, chrome_driver_path)\n",
    "\n",
    "# Compare screenshots\n",
    "similarity_checker = ImageSimilarityChecker(threshold=0.7)\n",
    "result, similarity_percentage = similarity_checker.compare_images(\"website_screenshot.png\", \"goal_image.png\")\n",
    "print(result)\n",
    "print(\"Similarity Score (100%):\", similarity_percentage)"
   ]
  }
 ],
 "metadata": {
  "kernelspec": {
   "display_name": "Python 3 (ipykernel)",
   "language": "python",
   "name": "python3"
  },
  "language_info": {
   "codemirror_mode": {
    "name": "ipython",
    "version": 3
   },
   "file_extension": ".py",
   "mimetype": "text/x-python",
   "name": "python",
   "nbconvert_exporter": "python",
   "pygments_lexer": "ipython3",
   "version": "3.11.0"
  }
 },
 "nbformat": 4,
 "nbformat_minor": 5
}
